{
 "cells": [
  {
   "attachments": {},
   "cell_type": "markdown",
   "metadata": {},
   "source": [
    "# Xente fraud detection"
   ]
  },
  {
   "attachments": {},
   "cell_type": "markdown",
   "metadata": {},
   "source": [
    "## Content\n",
    "\n",
    "1. Intro\n",
    "2. Setup and import\n",
    "3. Exploring and cleaning the data\n",
    "4. Feature engineering\n",
    "5. Modeling"
   ]
  },
  {
   "attachments": {},
   "cell_type": "markdown",
   "metadata": {},
   "source": [
    "## 1. Intro\n",
    "Xente is a payment service.\n",
    "In this notebook, we explore data of transactions.\n",
    "\n",
    "**The goal is to build a model, that predicts wheter or not a transaction is fraudulent.**\n",
    "\n",
    "Have a look on the website or this video to learn more.\n",
    "\n",
    "Video: https://www.loom.com/share/95af830a57f5452085fe73e2f4edd414\n",
    "\n",
    "Website: https://www.xente.co\n"
   ]
  },
  {
   "attachments": {},
   "cell_type": "markdown",
   "metadata": {},
   "source": [
    "## 2. Set-up and Import"
   ]
  },
  {
   "cell_type": "code",
   "execution_count": 49,
   "metadata": {},
   "outputs": [],
   "source": [
    "# Import necessary libraries\n",
    "import numpy as np\n",
    "import pandas as pd\n",
    "import matplotlib.pyplot as plt\n",
    "import seaborn as sns\n",
    "from collections import Counter\n",
    "from imblearn.over_sampling import SMOTE\n",
    "\n",
    "# Preprocessing\n",
    "from sklearn.preprocessing import StandardScaler, MinMaxScaler\n",
    "\n",
    "from sklearn.model_selection import train_test_split, GridSearchCV, cross_validate, cross_val_predict\n",
    "from sklearn.linear_model import LogisticRegression\n",
    "from sklearn.svm import SVC\n",
    "from sklearn.neighbors import KNeighborsClassifier\n",
    "from sklearn.tree import DecisionTreeClassifier\n",
    "\n",
    "from sklearn.metrics import plot_confusion_matrix, recall_score, accuracy_score, precision_score, f1_score, mean_squared_error\n",
    "from sklearn.metrics import classification_report, confusion_matrix, roc_curve\n",
    "from sklearn.metrics import fbeta_score, make_scorer\n",
    "\n",
    "###\n",
    "# Import functions from own Python-File (see visuals_script.py in Repo)\n",
    "import visuals_script as vs\n",
    "\n",
    "# Pretty display for notebooks\n",
    "%matplotlib inline\n",
    "\n",
    "# Ignore warnings\n",
    "import warnings\n",
    "warnings.filterwarnings(\"ignore\")\n",
    "\n",
    "# for neural network\n",
    "\n",
    "import os\n",
    "\n",
    "import tensorflow as tf\n",
    "\n",
    "from tensorflow.keras import layers\n",
    "from tensorflow.keras import regularizers\n",
    "\n",
    "\n",
    "import pathlib\n",
    "import shutil\n",
    "import tempfile\n",
    "\n",
    "\n",
    "RSEED = 42\n",
    "###\n",
    "\n",
    "# Define a plotting style to be used for all plots in this notebook\n",
    "plt.style.use('tableau-colorblind10')\n"
   ]
  },
  {
   "cell_type": "code",
   "execution_count": 50,
   "metadata": {},
   "outputs": [],
   "source": [
    "!pip install -q git+https://github.com/tensorflow/docs\n",
    "\n",
    "import tensorflow_docs as tfdocs\n",
    "import tensorflow_docs.modeling\n",
    "import tensorflow_docs.plots"
   ]
  },
  {
   "cell_type": "code",
   "execution_count": 51,
   "metadata": {},
   "outputs": [],
   "source": [
    "tf.keras.backend.set_floatx('float64')\n",
    "plt.rcParams['figure.figsize'] = (15, 10)"
   ]
  },
  {
   "attachments": {},
   "cell_type": "markdown",
   "metadata": {},
   "source": [
    "## 3. Exploring and cleaning the data\n",
    "The data is available on zindi: https://zindi.africa/competitions/xente-fraud-detection-challenge/data"
   ]
  },
  {
   "cell_type": "code",
   "execution_count": 52,
   "metadata": {},
   "outputs": [],
   "source": [
    "df = pd.read_csv('data/training.csv')\n",
    "df.columns = df.columns.str.lower()\n",
    "#df.head()"
   ]
  },
  {
   "cell_type": "code",
   "execution_count": 53,
   "metadata": {},
   "outputs": [],
   "source": [
    "# General information\n",
    "# df.info()\n",
    "# df.describe()\n",
    "# df.nunique()\n"
   ]
  },
  {
   "cell_type": "code",
   "execution_count": 54,
   "metadata": {},
   "outputs": [],
   "source": [
    "# Checking the target value\n",
    "# sns.countplot(x=df.fraudresult)\n",
    "# The data is highly imbalanced. 96000 non-frauds and 200 frauds."
   ]
  },
  {
   "cell_type": "code",
   "execution_count": 55,
   "metadata": {},
   "outputs": [],
   "source": [
    "# Currencycode and countrycode is the same for all transactions and contains no valuable information.\n",
    "df.drop('currencycode', axis=1, inplace=True)\n",
    "df.drop('countrycode', axis=1, inplace=True)"
   ]
  },
  {
   "cell_type": "code",
   "execution_count": 56,
   "metadata": {},
   "outputs": [],
   "source": [
    "# Transforming the transaction start time into datetime\n",
    "# The date is splitted into year, month, day, hour and weekday\n",
    "# While doing this, we discussed a lot about the meaning of the date and time. Is the year or the second something, that contain information valuable for future fraud detection?\n",
    "# Would you in practice try to keep as many of those variables as possible at first, then eventually throw them out after building your model?\n",
    "\n",
    "df['transactionstarttime'] = df['transactionstarttime'].str.replace('T', ' ')\n",
    "df['transactionstarttime'] = df['transactionstarttime'].str.replace('Z', '')\n",
    "df['transactionstarttime'] = pd.to_datetime(df['transactionstarttime'], infer_datetime_format=True) \n",
    "df['year'] = df['transactionstarttime'].dt.year\n",
    "df['month'] = df['transactionstarttime'].dt.month\n",
    "df['day'] = df['transactionstarttime'].dt.day\n",
    "df['hour'] = df['transactionstarttime'].dt.hour\n",
    "df['weekday'] = df['transactionstarttime'].dt.weekday\n",
    "\n",
    "df.drop('transactionstarttime', axis=1, inplace=True)\n"
   ]
  },
  {
   "attachments": {},
   "cell_type": "markdown",
   "metadata": {},
   "source": [
    "#### Trying to make sense of the ID columns"
   ]
  },
  {
   "attachments": {},
   "cell_type": "markdown",
   "metadata": {},
   "source": [
    "**transactionid:** Unique transaction identifier on platform\n",
    "\n",
    "**batchid:** Unique number assigned to a batch of transactions for processing\n",
    "\n",
    "**accountid:** Unique number identifying the customer on (xente) platform\n",
    "\n",
    "**subscriptionid:** identifying the customer subscription\n",
    "\n",
    "**customerid:** Unique identifier attached to Account\n",
    "\n",
    "**providerid:** Identifying the provider of the product (for example phone company for airtime)\n",
    "\n",
    "**productid:** Product being bought (23 different products)\n",
    "\n",
    "**channelid:** Identifies if customer used web,Android, IOS, pay later or checkout.(4 categories)\n",
    "\n",
    "**productcategory:** ProductIds are organized into these broader product categories. (9 categories)"
   ]
  },
  {
   "cell_type": "code",
   "execution_count": 57,
   "metadata": {},
   "outputs": [],
   "source": [
    "# df['accountid'].value_counts()\n",
    "# df['subscriptionid'].value_counts()\n",
    "# df['customerid'].value_counts()\n",
    "# df['providerid'].value_counts()\n",
    "# df['channelid'].value_counts()\n",
    "#df['productcategory'].value_counts()\n"
   ]
  },
  {
   "cell_type": "code",
   "execution_count": 58,
   "metadata": {},
   "outputs": [],
   "source": [
    "# Cleaning the id columns\n",
    "df[\"transactionid\"] = df[\"transactionid\"].apply(lambda x: x.replace(\"TransactionId_\", \"\"))\n",
    "df[\"batchid\"] = df[\"batchid\"].apply(lambda x: x.replace(\"BatchId_\", \"\"))\n",
    "df[\"accountid\"] = df[\"accountid\"].apply(lambda x: x.replace(\"AccountId_\", \"\"))\n",
    "df[\"customerid\"] = df[\"customerid\"].apply(lambda x: x.replace(\"CustomerId_\", \"\"))\n",
    "df[\"providerid\"] = df[\"providerid\"].apply(lambda x: x.replace(\"ProviderId_\", \"\"))\n",
    "df[\"productid\"] = df[\"productid\"].apply(lambda x: x.replace(\"ProductId_\", \"\"))\n",
    "df[\"channelid\"] = df[\"channelid\"].apply(lambda x: x.replace(\"ChannelId_\", \"\"))\n",
    "df[\"subscriptionid\"] = df[\"subscriptionid\"].apply(lambda x: x.replace(\"SubscriptionId_\", \"\"))"
   ]
  },
  {
   "attachments": {},
   "cell_type": "markdown",
   "metadata": {},
   "source": [
    "**How to decide, whether or not to keep an ID? Does it make sense to drop unique IDs and keep categorical IDs?**\n",
    "\n",
    "The batch_id for example is categorical, but has nearly 95000 unique values. \n",
    "\n",
    "Does it make sense to keep this and create dummies?"
   ]
  },
  {
   "cell_type": "code",
   "execution_count": 59,
   "metadata": {},
   "outputs": [],
   "source": [
    "# We decided to drop most of the IDs\n",
    "df = df.drop(['transactionid', 'batchid', 'accountid', 'subscriptionid', 'customerid'], axis=1)\n"
   ]
  },
  {
   "cell_type": "code",
   "execution_count": 60,
   "metadata": {},
   "outputs": [
    {
     "data": {
      "text/html": [
       "<div>\n",
       "<style scoped>\n",
       "    .dataframe tbody tr th:only-of-type {\n",
       "        vertical-align: middle;\n",
       "    }\n",
       "\n",
       "    .dataframe tbody tr th {\n",
       "        vertical-align: top;\n",
       "    }\n",
       "\n",
       "    .dataframe thead th {\n",
       "        text-align: right;\n",
       "    }\n",
       "</style>\n",
       "<table border=\"1\" class=\"dataframe\">\n",
       "  <thead>\n",
       "    <tr style=\"text-align: right;\">\n",
       "      <th></th>\n",
       "      <th>providerid</th>\n",
       "      <th>productid</th>\n",
       "      <th>productcategory</th>\n",
       "      <th>channelid</th>\n",
       "      <th>amount</th>\n",
       "      <th>value</th>\n",
       "      <th>pricingstrategy</th>\n",
       "      <th>fraudresult</th>\n",
       "      <th>year</th>\n",
       "      <th>month</th>\n",
       "      <th>day</th>\n",
       "      <th>hour</th>\n",
       "      <th>weekday</th>\n",
       "    </tr>\n",
       "  </thead>\n",
       "  <tbody>\n",
       "    <tr>\n",
       "      <th>0</th>\n",
       "      <td>6</td>\n",
       "      <td>10</td>\n",
       "      <td>airtime</td>\n",
       "      <td>3</td>\n",
       "      <td>1000.0</td>\n",
       "      <td>1000</td>\n",
       "      <td>2</td>\n",
       "      <td>0</td>\n",
       "      <td>2018</td>\n",
       "      <td>11</td>\n",
       "      <td>15</td>\n",
       "      <td>2</td>\n",
       "      <td>3</td>\n",
       "    </tr>\n",
       "    <tr>\n",
       "      <th>1</th>\n",
       "      <td>4</td>\n",
       "      <td>6</td>\n",
       "      <td>financial_services</td>\n",
       "      <td>2</td>\n",
       "      <td>-20.0</td>\n",
       "      <td>20</td>\n",
       "      <td>2</td>\n",
       "      <td>0</td>\n",
       "      <td>2018</td>\n",
       "      <td>11</td>\n",
       "      <td>15</td>\n",
       "      <td>2</td>\n",
       "      <td>3</td>\n",
       "    </tr>\n",
       "    <tr>\n",
       "      <th>2</th>\n",
       "      <td>6</td>\n",
       "      <td>1</td>\n",
       "      <td>airtime</td>\n",
       "      <td>3</td>\n",
       "      <td>500.0</td>\n",
       "      <td>500</td>\n",
       "      <td>2</td>\n",
       "      <td>0</td>\n",
       "      <td>2018</td>\n",
       "      <td>11</td>\n",
       "      <td>15</td>\n",
       "      <td>2</td>\n",
       "      <td>3</td>\n",
       "    </tr>\n",
       "    <tr>\n",
       "      <th>3</th>\n",
       "      <td>1</td>\n",
       "      <td>21</td>\n",
       "      <td>utility_bill</td>\n",
       "      <td>3</td>\n",
       "      <td>20000.0</td>\n",
       "      <td>21800</td>\n",
       "      <td>2</td>\n",
       "      <td>0</td>\n",
       "      <td>2018</td>\n",
       "      <td>11</td>\n",
       "      <td>15</td>\n",
       "      <td>3</td>\n",
       "      <td>3</td>\n",
       "    </tr>\n",
       "    <tr>\n",
       "      <th>4</th>\n",
       "      <td>4</td>\n",
       "      <td>6</td>\n",
       "      <td>financial_services</td>\n",
       "      <td>2</td>\n",
       "      <td>-644.0</td>\n",
       "      <td>644</td>\n",
       "      <td>2</td>\n",
       "      <td>0</td>\n",
       "      <td>2018</td>\n",
       "      <td>11</td>\n",
       "      <td>15</td>\n",
       "      <td>3</td>\n",
       "      <td>3</td>\n",
       "    </tr>\n",
       "  </tbody>\n",
       "</table>\n",
       "</div>"
      ],
      "text/plain": [
       "  providerid productid     productcategory channelid   amount  value  \\\n",
       "0          6        10             airtime         3   1000.0   1000   \n",
       "1          4         6  financial_services         2    -20.0     20   \n",
       "2          6         1             airtime         3    500.0    500   \n",
       "3          1        21        utility_bill         3  20000.0  21800   \n",
       "4          4         6  financial_services         2   -644.0    644   \n",
       "\n",
       "   pricingstrategy  fraudresult  year  month  day  hour  weekday  \n",
       "0                2            0  2018     11   15     2        3  \n",
       "1                2            0  2018     11   15     2        3  \n",
       "2                2            0  2018     11   15     2        3  \n",
       "3                2            0  2018     11   15     3        3  \n",
       "4                2            0  2018     11   15     3        3  "
      ]
     },
     "execution_count": 60,
     "metadata": {},
     "output_type": "execute_result"
    }
   ],
   "source": [
    "df.head()"
   ]
  },
  {
   "cell_type": "markdown",
   "metadata": {},
   "source": [
    "## 4. Feature Engineering"
   ]
  },
  {
   "cell_type": "code",
   "execution_count": 61,
   "metadata": {},
   "outputs": [],
   "source": [
    "# The value and amount column contain nearly the same information. The only difference is, that the amount column shows, whether a transaction was a debit or a credit. \n",
    "# Therefor we decided to change the amount column, so it only shows this additional information.\n",
    "df[\"debit\"] = df[\"amount\"].apply(lambda x: 0 if x > 0 else 1)\n",
    "# df[[\"amount\", \"debit\"]]\n",
    "df.drop('amount', axis=1, inplace=True)"
   ]
  },
  {
   "cell_type": "code",
   "execution_count": 62,
   "metadata": {},
   "outputs": [],
   "source": [
    "# df[df['fraudresult'] == 1].groupby('productcategory').count()\n",
    "# df[df['fraudresult'] == 1].groupby('channelid').count()\n",
    "# df[df['fraudresult'] == 1].groupby('productid').count()\n",
    "# df[df['fraudresult'] == 1].groupby('value').count().sort_values('value',ascending=False).head(60)"
   ]
  },
  {
   "attachments": {},
   "cell_type": "markdown",
   "metadata": {},
   "source": [
    "### Creating dummies"
   ]
  },
  {
   "cell_type": "code",
   "execution_count": 63,
   "metadata": {},
   "outputs": [],
   "source": [
    "X = df.drop('fraudresult', axis=1)\n",
    "y = df.fraudresult"
   ]
  },
  {
   "cell_type": "code",
   "execution_count": 64,
   "metadata": {},
   "outputs": [],
   "source": [
    "# TODO: One-hot encode the 'features_raw' data using pandas.get_dummies()\n",
    "features = X\n",
    "cat_feats = ['providerid', 'productid', 'productcategory', 'channelid', 'pricingstrategy', 'year', 'month', 'day', 'hour', 'weekday']\n",
    "features_dummies = pd.get_dummies(features, columns=cat_feats, drop_first=True)\n",
    "\n",
    "# TODO: Our Target is already a numerical value with 0 for ok and 1 for fraud\n",
    "target_enc = y \n",
    "\n",
    "# features_dummies.head()\n",
    "# features_dummies.shape\n",
    "# features_dummies.info()\n",
    "# X.info()"
   ]
  },
  {
   "attachments": {},
   "cell_type": "markdown",
   "metadata": {},
   "source": [
    "### Shuffle and Split Data\n",
    "\n",
    "Now all _categorical variables_ have been converted into numerical features. We will now split the data (both features and their labels) into training and test sets. 70% of the data will be used for training and 30% for testing.  "
   ]
  },
  {
   "cell_type": "code",
   "execution_count": 65,
   "metadata": {},
   "outputs": [
    {
     "name": "stdout",
     "output_type": "stream",
     "text": [
      "Training set has 66963 samples.\n",
      "Testing set has 28699 samples.\n"
     ]
    }
   ],
   "source": [
    "# Import train_test_split\n",
    "from sklearn.model_selection import train_test_split\n",
    "\n",
    "# Split the 'features' and 'income' data into training and testing sets\n",
    "X_train, X_test, y_train, y_test = train_test_split(features_dummies, target_enc, test_size=0.3, random_state=RSEED, stratify= target_enc)\n",
    "\n",
    "# Show the results of the split\n",
    "print (\"Training set has {} samples.\".format(X_train.shape[0]))\n",
    "print (\"Testing set has {} samples.\".format(X_test.shape[0]))"
   ]
  },
  {
   "attachments": {},
   "cell_type": "markdown",
   "metadata": {},
   "source": [
    "### Normalizing Numerical Features\n",
    "Normalization ensures that each feature is treated equally when applying supervised learners. Note that once scaling is applied, observing the data in its raw form will no longer have the same original meaning, as exampled below. To avoid data leakage we will normalize the data after we split it into train and test set. "
   ]
  },
  {
   "cell_type": "code",
   "execution_count": 66,
   "metadata": {},
   "outputs": [],
   "source": [
    "# Import sklearn.preprocessing.StandardScaler\n",
    "from sklearn.preprocessing import StandardScaler\n",
    "\n",
    "# Initialize a scaler, then apply it to the features\n",
    "scaler = StandardScaler()\n",
    "numerical = ['value']\n",
    "\n",
    "X_train_scaled = X_train.copy()\n",
    "X_test_scaled = X_test.copy()\n",
    "\n",
    "X_train_scaled[numerical] = scaler.fit_transform(X_train_scaled[numerical])\n",
    "X_test_scaled[numerical] = scaler.transform(X_test_scaled[numerical])\n",
    "\n",
    "# Show an example of a record with scaling applied\n",
    "# X_train_scaled.head()"
   ]
  },
  {
   "attachments": {},
   "cell_type": "markdown",
   "metadata": {},
   "source": [
    "### Synthetic minority oversampling\n",
    "\n",
    "To deal with the imbalance, we decided to create new fraud instances using SMOTE. These will only be used to train our model."
   ]
  },
  {
   "cell_type": "code",
   "execution_count": 67,
   "metadata": {},
   "outputs": [
    {
     "name": "stdout",
     "output_type": "stream",
     "text": [
      "Counter({0: 66828, 1: 135})\n"
     ]
    }
   ],
   "source": [
    "# summarize class distribution\n",
    "counter = Counter(y_train)\n",
    "print(counter)\n"
   ]
  },
  {
   "cell_type": "code",
   "execution_count": 68,
   "metadata": {},
   "outputs": [],
   "source": [
    "# transform the dataset\n",
    "# do all imports at the top\n",
    "oversample = SMOTE()\n",
    "X_train_sample, y_train_sample = oversample.fit_resample(X_train_scaled, y_train)\n"
   ]
  },
  {
   "cell_type": "code",
   "execution_count": 69,
   "metadata": {},
   "outputs": [
    {
     "name": "stdout",
     "output_type": "stream",
     "text": [
      "Counter({0: 66828, 1: 66828})\n"
     ]
    }
   ],
   "source": [
    "# summarize the new class distribution\n",
    "counter = Counter(y_train_sample)\n",
    "print(counter)"
   ]
  },
  {
   "attachments": {},
   "cell_type": "markdown",
   "metadata": {},
   "source": [
    "## 5. Modeling"
   ]
  },
  {
   "attachments": {},
   "cell_type": "markdown",
   "metadata": {},
   "source": [
    "### Baseline Model:\n",
    "As a starting point, we create a simple baseline model. When exploring the data, we saw, that higher transaction values are more likely to be fraudulent.\n",
    "\n",
    "Let's test a model, that predicts the following:\n",
    "\n",
    "A transaction is always fraudulent, if the value is higher than 500.000 UGX"
   ]
  },
  {
   "cell_type": "code",
   "execution_count": 70,
   "metadata": {},
   "outputs": [
    {
     "name": "stdout",
     "output_type": "stream",
     "text": [
      "Accuracy:  0.9990243562493467\n",
      "Recall:  0.8793103448275862\n",
      "Precision:  0.7083333333333334\n",
      "F1-score:  0.7846153846153847\n",
      "Confusion matrix:\n",
      "[[28620    21]\n",
      " [    7    51]]\n"
     ]
    }
   ],
   "source": [
    "# Create prediction of our baseline model\n",
    "y_pred_baseline = (X_test.value >= 500000)*1\n",
    "\n",
    "# Testing it on the test data\n",
    "print(\"Accuracy: \", accuracy_score(y_test, y_pred_baseline))\n",
    "print(\"Recall: \", recall_score(y_test, y_pred_baseline))\n",
    "print(\"Precision: \", precision_score(y_test, y_pred_baseline))\n",
    "print(\"F1-score: \", f1_score(y_test, y_pred_baseline))\n",
    "print(\"Confusion matrix:\")\n",
    "print(confusion_matrix(y_test,y_pred_baseline))"
   ]
  },
  {
   "attachments": {},
   "cell_type": "markdown",
   "metadata": {},
   "source": [
    "## Neural Network Model"
   ]
  },
  {
   "cell_type": "code",
   "execution_count": 71,
   "metadata": {},
   "outputs": [],
   "source": [
    "# Convert to np array\n",
    "X_train_ann = X_train_scaled.values\n",
    "X_test_ann = X_test_scaled.values\n",
    "y_train_ann = y_train.values\n",
    "y_test_ann = y_test.values"
   ]
  },
  {
   "cell_type": "code",
   "execution_count": 72,
   "metadata": {},
   "outputs": [],
   "source": [
    "# Define dictionary to store results\n",
    "training_history = {}\n",
    "\n",
    "# Define number of epochs and learning rate decay\n",
    "N_TRAIN = len(X_train)\n",
    "EPOCHS = 500\n",
    "BATCH_SIZE = 32\n",
    "# Too much steps for this dataset\n",
    "#STEPS_PER_EPOCH = N_TRAIN // BATCH_SIZE\n",
    "#lr_schedule = tf.keras.optimizers.schedules.InverseTimeDecay(\n",
    "#    0.01,\n",
    "#    decay_steps=STEPS_PER_EPOCH*1000,\n",
    "#    decay_rate=1,\n",
    "#    staircase=False)\n",
    "\n",
    "\n",
    "# Define optimizer used for modelling\n",
    "optimizer = tf.keras.optimizers.Adam(learning_rate=lr_schedule, name='Adam')"
   ]
  },
  {
   "cell_type": "code",
   "execution_count": 73,
   "metadata": {},
   "outputs": [],
   "source": [
    "# Plotting function for MSE\n",
    "def plot_metric(history):\n",
    "    plt.plot(history.history['mse'])\n",
    "    plt.plot(history.history['val_mse'])\n",
    "    plt.title('Model MSE')\n",
    "    plt.ylabel('MSE')\n",
    "    plt.xlabel('Epoch')\n",
    "    plt.legend(['train', 'validation'], loc='upper right')\n",
    "    plt.show()"
   ]
  },
  {
   "cell_type": "code",
   "execution_count": 74,
   "metadata": {},
   "outputs": [],
   "source": [
    "# Plotting function for loss\n",
    "def plot_loss(history):\n",
    "    plt.plot(history.history['loss'], label='loss')\n",
    "    plt.plot(history.history['val_loss'], label='val_loss')\n",
    "    plt.title('Model Loss')\n",
    "    plt.ylim([0, 10])\n",
    "    plt.xlabel('Epoch')\n",
    "    plt.ylabel('Error')\n",
    "    plt.legend()\n",
    "    plt.grid(True)"
   ]
  },
  {
   "attachments": {},
   "cell_type": "markdown",
   "metadata": {},
   "source": [
    "### Small DNN Model"
   ]
  },
  {
   "cell_type": "code",
   "execution_count": 80,
   "metadata": {},
   "outputs": [
    {
     "data": {
      "text/plain": [
       "(66963, 106)"
      ]
     },
     "execution_count": 80,
     "metadata": {},
     "output_type": "execute_result"
    }
   ],
   "source": [
    "X_train_ann.shape"
   ]
  },
  {
   "cell_type": "code",
   "execution_count": 164,
   "metadata": {},
   "outputs": [],
   "source": [
    "# Define model architecture in function\n",
    "def get_compiled_small_model():\n",
    "    small_model = tf.keras.Sequential([\n",
    "      tf.keras.layers.Dense(20,kernel_initializer = 'uniform', activation='relu', input_dim = 106),\n",
    "      tf.keras.layers.Dense(20,kernel_initializer = 'uniform', activation='relu'),\n",
    "      tf.keras.layers.Dense(1,kernel_initializer = 'uniform', activation = 'sigmoid')# sigmoid necessary for classification\n",
    "    ])\n",
    "    \n",
    "    small_model.compile(optimizer='sgd',\n",
    "                  loss='mse',\n",
    "                  metrics=[tf.keras.metrics.CategoricalCrossentropy()])\n",
    "    return small_model\n"
   ]
  },
  {
   "attachments": {},
   "cell_type": "markdown",
   "metadata": {},
   "source": [
    "   #### Alternitive\n",
    "    small_model.compile(optimizer='adam',\n",
    "                  loss='binary_crossentropy',# necessary for classification\n",
    "                  metrics=['accuracy'])\n",
    "    return small_model"
   ]
  },
  {
   "cell_type": "code",
   "execution_count": 165,
   "metadata": {},
   "outputs": [
    {
     "name": "stdout",
     "output_type": "stream",
     "text": [
      "Model: \"sequential_13\"\n",
      "_________________________________________________________________\n",
      " Layer (type)                Output Shape              Param #   \n",
      "=================================================================\n",
      " dense_45 (Dense)            (None, 20)                2140      \n",
      "                                                                 \n",
      " dense_46 (Dense)            (None, 20)                420       \n",
      "                                                                 \n",
      " dense_47 (Dense)            (None, 1)                 21        \n",
      "                                                                 \n",
      "=================================================================\n",
      "Total params: 2,581\n",
      "Trainable params: 2,581\n",
      "Non-trainable params: 0\n",
      "_________________________________________________________________\n",
      "None\n"
     ]
    }
   ],
   "source": [
    "# Instantiate small model and print model summary\n",
    "with tf.device('/cpu:0'):\n",
    "    small_model = get_compiled_small_model()\n",
    "    print(small_model.summary())"
   ]
  },
  {
   "cell_type": "code",
   "execution_count": 166,
   "metadata": {},
   "outputs": [],
   "source": [
    "# Run model\n",
    "with tf.device('/cpu:0'):\n",
    "    training_history['small'] = small_model.fit(X_train_ann,\n",
    "                        y_train_ann,\n",
    "                        validation_split=0.2,\n",
    "                        verbose=0,\n",
    "                        #steps_per_epoch=STEPS_PER_EPOCH,\n",
    "                        epochs=EPOCHS)"
   ]
  },
  {
   "cell_type": "code",
   "execution_count": 167,
   "metadata": {},
   "outputs": [
    {
     "data": {
      "image/png": "[encoded data removed]",
      "text/plain": [
       "<IPython.core.display.Image object>"
      ]
     },
     "execution_count": 167,
     "metadata": {},
     "output_type": "execute_result"
    }
   ],
   "source": [
    "# Model picture\n",
    "from tensorflow.keras.utils import plot_model\n",
    "plot_model(\n",
    "    small_model, to_file='model.png', show_shapes=True, \n",
    "    show_layer_names=True, dpi=96\n",
    ")"
   ]
  },
  {
   "cell_type": "code",
   "execution_count": 168,
   "metadata": {},
   "outputs": [
    {
     "name": "stderr",
     "output_type": "stream",
     "text": [
      "2023-01-11 15:42:34.256471: I tensorflow/core/grappler/optimizers/custom_graph_optimizer_registry.cc:113] Plugin optimizer for device_type GPU is enabled.\n"
     ]
    },
    {
     "data": {
      "image/png": "[encoded data removed]",
      "text/plain": [
       "<Figure size 1500x1000 with 1 Axes>"
      ]
     },
     "metadata": {},
     "output_type": "display_data"
    }
   ],
   "source": [
    "# Predicting and evaluating model\n",
    "y_pred = small_model.predict(X_test_ann).round(0)\n",
    "\n",
    "# Plotting the confusing matrix\n",
    "mat = confusion_matrix(y_test_ann, y_pred.round(0))\n",
    "sns.heatmap(mat, square=True, annot=True, fmt='d', cbar=False)\n",
    "plt.xlabel('predicted label')\n",
    "plt.ylabel('true label');"
   ]
  },
  {
   "cell_type": "code",
   "execution_count": 169,
   "metadata": {},
   "outputs": [
    {
     "name": "stdout",
     "output_type": "stream",
     "text": [
      "Final accuracy score on the testing data: 0.9990\n",
      "Final recall score on the testing data: 0.8966\n",
      "Final F-score on the testing data: 0.7879\n",
      "              precision    recall  f1-score   support\n",
      "\n",
      "           0       1.00      1.00      1.00     28641\n",
      "           1       0.70      0.90      0.79        58\n",
      "\n",
      "    accuracy                           1.00     28699\n",
      "   macro avg       0.85      0.95      0.89     28699\n",
      "weighted avg       1.00      1.00      1.00     28699\n",
      "\n",
      "Confusion matrix baseline:\n",
      "[[28620    21]\n",
      " [    7    51]]\n"
     ]
    }
   ],
   "source": [
    "# Evaluation scores\n",
    "print(\"Final accuracy score on the testing data: {:.4f}\".format(accuracy_score(y_test_ann, y_pred)))\n",
    "print(\"Final recall score on the testing data: {:.4f}\".format(recall_score(y_test_ann, y_pred)))\n",
    "print(\"Final F-score on the testing data: {:.4f}\".format(fbeta_score(y_test_ann, y_pred, beta = 1)))\n",
    "print(classification_report(y_test_ann, y_pred))\n",
    "print(\"Confusion matrix baseline:\")\n",
    "print(confusion_matrix(y_test,y_pred_baseline))"
   ]
  },
  {
   "cell_type": "code",
   "execution_count": null,
   "metadata": {},
   "outputs": [],
   "source": [
    "### Result optimized for accuracy with adam\n",
    "#Final accuracy score on the testing data: 0.9995\n",
    "#Final recall score on the testing data: 0.7931\n",
    "#Final F-score on the testing data: 0.8598\n",
    "#              precision    recall  f1-score   support\n",
    "#\n",
    "#           0       1.00      1.00      1.00     28641\n",
    "#           1       0.94      0.79      0.86        58\n",
    "#\n",
    "#    accuracy                           1.00     28699\n",
    "#   macro avg       0.97      0.90      0.93     28699\n",
    "#weighted avg       1.00      1.00      1.00     28699"
   ]
  },
  {
   "attachments": {},
   "cell_type": "markdown",
   "metadata": {},
   "source": [
    "## Conclusion\n",
    "\n",
    "By using the neural network model in the fraud prediction’s project, we can notice, that we didn’t improve the results. The F1-Score got worse by 7%. On the other hand there was big improvement of the recall by 11%. As we decided to use the F1_Score metric as a better and more realistic indicator, we don’t see any need of using the neural network in this Project. "
   ]
  },
  {
   "attachments": {},
   "cell_type": "markdown",
   "metadata": {},
   "source": [
    "### Why does this next model not work?\n",
    "### Model iteration with dropout"
   ]
  },
  {
   "cell_type": "code",
   "execution_count": 171,
   "metadata": {},
   "outputs": [],
   "source": [
    "# Define model architecture in function\n",
    "def get_compiled_l2_dropout_model():\n",
    "    best_model = tf.keras.Sequential([\n",
    "      tf.keras.layers.Dense(16,kernel_initializer = 'uniform', activation='relu', kernel_regularizer=regularizers.l2(0.01), input_dim = 106),\n",
    "      tf.keras.layers.Dropout(0.25),\n",
    "      tf.keras.layers.Dense(16,kernel_initializer = 'uniform', activation='relu', kernel_regularizer=regularizers.l2(0.01)),\n",
    "      tf.keras.layers.Dropout(0.25),\n",
    "      tf.keras.layers.Dense(1,kernel_initializer = 'uniform', activation = 'sigmoid')# sigmoid necessary for classification\n",
    "    ])\n",
    "    \n",
    "    best_model.compile(optimizer='sgd',\n",
    "                  loss='mse',\n",
    "                  metrics=[tf.keras.metrics.CategoricalCrossentropy()])\n",
    "    return best_model"
   ]
  },
  {
   "cell_type": "code",
   "execution_count": 172,
   "metadata": {},
   "outputs": [
    {
     "name": "stdout",
     "output_type": "stream",
     "text": [
      "Model: \"sequential_14\"\n",
      "_________________________________________________________________\n",
      " Layer (type)                Output Shape              Param #   \n",
      "=================================================================\n",
      " dense_48 (Dense)            (None, 16)                1712      \n",
      "                                                                 \n",
      " dropout_18 (Dropout)        (None, 16)                0         \n",
      "                                                                 \n",
      " dense_49 (Dense)            (None, 16)                272       \n",
      "                                                                 \n",
      " dropout_19 (Dropout)        (None, 16)                0         \n",
      "                                                                 \n",
      " dense_50 (Dense)            (None, 1)                 17        \n",
      "                                                                 \n",
      "=================================================================\n",
      "Total params: 2,001\n",
      "Trainable params: 2,001\n",
      "Non-trainable params: 0\n",
      "_________________________________________________________________\n",
      "None\n"
     ]
    }
   ],
   "source": [
    "# Instantiate small model and print model summary\n",
    "with tf.device('/cpu:0'):\n",
    "    best_model = get_compiled_l2_dropout_model()\n",
    "    print(best_model.summary())"
   ]
  },
  {
   "cell_type": "code",
   "execution_count": 173,
   "metadata": {},
   "outputs": [],
   "source": [
    "# Run model\n",
    "with tf.device('/cpu:0'):\n",
    "    training_history['best'] = best_model.fit(X_train_ann,\n",
    "                        y_train_ann,\n",
    "                        validation_split=0.2,\n",
    "                        verbose=0,\n",
    "                        epochs=EPOCHS)"
   ]
  },
  {
   "cell_type": "code",
   "execution_count": 175,
   "metadata": {},
   "outputs": [
    {
     "data": {
      "image/png": "[encoded data removed]",
      "text/plain": [
       "<Figure size 1500x1000 with 1 Axes>"
      ]
     },
     "metadata": {},
     "output_type": "display_data"
    }
   ],
   "source": [
    "# Predicting and evaluating model\n",
    "y_pred_best = best_model.predict(X_test_ann).round(0)\n",
    "\n",
    "# Plotting the confusing matrix\n",
    "mat = confusion_matrix(y_test_ann, y_pred_best)\n",
    "sns.heatmap(mat, square=True, annot=True, fmt='d', cbar=False)\n",
    "plt.xlabel('predicted label')\n",
    "plt.ylabel('true label');"
   ]
  },
  {
   "cell_type": "code",
   "execution_count": 176,
   "metadata": {},
   "outputs": [
    {
     "name": "stdout",
     "output_type": "stream",
     "text": [
      "Final accuracy score on the testing data: 0.9980\n",
      "Final recall score on the testing data: 0.0000\n",
      "Final F-score on the testing data: 0.0000\n",
      "              precision    recall  f1-score   support\n",
      "\n",
      "           0       1.00      1.00      1.00     28641\n",
      "           1       0.00      0.00      0.00        58\n",
      "\n",
      "    accuracy                           1.00     28699\n",
      "   macro avg       0.50      0.50      0.50     28699\n",
      "weighted avg       1.00      1.00      1.00     28699\n",
      "\n",
      "Confusion matrix baseline:\n",
      "[[28620    21]\n",
      " [    7    51]]\n"
     ]
    }
   ],
   "source": [
    "# Evaluation scores\n",
    "print(\"Final accuracy score on the testing data: {:.4f}\".format(accuracy_score(y_test_ann, y_pred_best)))\n",
    "print(\"Final recall score on the testing data: {:.4f}\".format(recall_score(y_test_ann, y_pred_best)))\n",
    "print(\"Final F-score on the testing data: {:.4f}\".format(fbeta_score(y_test_ann, y_pred_best, beta = 1)))\n",
    "print(classification_report(y_test_ann, y_pred_best))\n",
    "print(\"Confusion matrix baseline:\")\n",
    "print(confusion_matrix(y_test, y_pred_baseline))"
   ]
  }
 ],
 "metadata": {
  "kernelspec": {
   "display_name": ".venv",
   "language": "python",
   "name": "python3"
  },
  "language_info": {
   "codemirror_mode": {
    "name": "ipython",
    "version": 3
   },
   "file_extension": ".py",
   "mimetype": "text/x-python",
   "name": "python",
   "nbconvert_exporter": "python",
   "pygments_lexer": "ipython3",
   "version": "3.9.8"
  },
  "orig_nbformat": 4,
  "vscode": {
   "interpreter": {
    "hash": "91fb9db9995fbb93056a6deb889a87a4329e205c5341d538817b19de92e5cc6a"
   }
  }
 },
 "nbformat": 4,
 "nbformat_minor": 2
}
